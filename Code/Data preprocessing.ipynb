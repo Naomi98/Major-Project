{
 "cells": [
  {
   "cell_type": "code",
   "execution_count": 2,
   "metadata": {},
   "outputs": [],
   "source": [
    "## importing necessary packages\n",
    "import pandas"
   ]
  },
  {
   "cell_type": "code",
   "execution_count": 3,
   "metadata": {
    "scrolled": true
   },
   "outputs": [
    {
     "name": "stdout",
     "output_type": "stream",
     "text": [
      "            VideoID  Start  End Language  \\\n",
      "18      mv89psg6zh4     33   46  English   \n",
      "19      mv89psg6zh4     33   46  English   \n",
      "20      mv89psg6zh4     33   46  English   \n",
      "21      mv89psg6zh4     33   46  English   \n",
      "22      mv89psg6zh4     33   46  English   \n",
      "...             ...    ...  ...      ...   \n",
      "122597  m7x8uIdg2XU     67   73  English   \n",
      "122598  m7x8uIdg2XU     67   73  English   \n",
      "122599  m7x8uIdg2XU     67   73  English   \n",
      "122600  m7x8uIdg2XU     67   73  English   \n",
      "122601  m7x8uIdg2XU     67   73  English   \n",
      "\n",
      "                                              Description  \n",
      "18      A bird in a sink keeps getting under the runni...  \n",
      "19                           A bird is bathing in a sink.  \n",
      "20      A bird is splashing around under a running fau...  \n",
      "21                           A bird is bathing in a sink.  \n",
      "22      A bird is standing in a sink drinking water th...  \n",
      "...                                                   ...  \n",
      "122597               Milk being poured to a bowl of pasta  \n",
      "122598                      the girls are mixing the milk  \n",
      "122599         The lady added a cream sauce to the pasta.  \n",
      "122600                       women are cooking her kichen  \n",
      "122601         The woman is pouring cream over the pasta.  \n",
      "\n",
      "[85511 rows x 5 columns]\n"
     ]
    }
   ],
   "source": [
    "## Making a dataframe for the dataset\n",
    "\n",
    "df = pandas.read_csv('video_corpus.csv')\n",
    "df = df[['VideoID','Start','End','Language','Description']]\n",
    "df = df.loc[df['Language'] == 'English']\n",
    "print(df)"
   ]
  },
  {
   "cell_type": "code",
   "execution_count": 4,
   "metadata": {},
   "outputs": [
    {
     "name": "stdout",
     "output_type": "stream",
     "text": [
      "        VideoID  Start  End Language  \\\n",
      "18  mv89psg6zh4     33   46  English   \n",
      "19  mv89psg6zh4     33   46  English   \n",
      "20  mv89psg6zh4     33   46  English   \n",
      "21  mv89psg6zh4     33   46  English   \n",
      "22  mv89psg6zh4     33   46  English   \n",
      "\n",
      "                                              caption  \n",
      "18  A bird in a sink keeps getting under the runni...  \n",
      "19                       A bird is bathing in a sink.  \n",
      "20  A bird is splashing around under a running fau...  \n",
      "21                       A bird is bathing in a sink.  \n",
      "22  A bird is standing in a sink drinking water th...  \n"
     ]
    }
   ],
   "source": [
    "df = df.rename(columns = {\"Description\": \"caption\"}) \n",
    "print(df.head())"
   ]
  },
  {
   "cell_type": "code",
   "execution_count": 5,
   "metadata": {},
   "outputs": [
    {
     "name": "stdout",
     "output_type": "stream",
     "text": [
      "             video_id                                            caption\n",
      "18  mv89psg6zh4_33_46  A bird in a sink keeps getting under the runni...\n",
      "19  mv89psg6zh4_33_46                       A bird is bathing in a sink.\n",
      "20  mv89psg6zh4_33_46  A bird is splashing around under a running fau...\n",
      "21  mv89psg6zh4_33_46                       A bird is bathing in a sink.\n",
      "22  mv89psg6zh4_33_46  A bird is standing in a sink drinking water th...\n"
     ]
    }
   ],
   "source": [
    "df['video_id']=df['VideoID'].astype(str)+'_'+df['Start'].astype(str)+'_'+df['End'].astype(str)\n",
    "df = df[['video_id','caption']]\n",
    "print(df.head())"
   ]
  },
  {
   "cell_type": "code",
   "execution_count": 6,
   "metadata": {
    "scrolled": true
   },
   "outputs": [
    {
     "name": "stdout",
     "output_type": "stream",
     "text": [
      "                 video_id                                            caption\n",
      "18      mv89psg6zh4_33_46  A bird in a sink keeps getting under the runni...\n",
      "19      mv89psg6zh4_33_46                       A bird is bathing in a sink.\n",
      "20      mv89psg6zh4_33_46  A bird is splashing around under a running fau...\n",
      "21      mv89psg6zh4_33_46                       A bird is bathing in a sink.\n",
      "22      mv89psg6zh4_33_46  A bird is standing in a sink drinking water th...\n",
      "...                   ...                                                ...\n",
      "122597  m7x8uIdg2XU_67_73               Milk being poured to a bowl of pasta\n",
      "122598  m7x8uIdg2XU_67_73                      the girls are mixing the milk\n",
      "122599  m7x8uIdg2XU_67_73         The lady added a cream sauce to the pasta.\n",
      "122600  m7x8uIdg2XU_67_73                       women are cooking her kichen\n",
      "122601  m7x8uIdg2XU_67_73         The woman is pouring cream over the pasta.\n",
      "\n",
      "[85511 rows x 2 columns]\n"
     ]
    }
   ],
   "source": [
    "print(df)"
   ]
  },
  {
   "cell_type": "code",
   "execution_count": 11,
   "metadata": {},
   "outputs": [],
   "source": [
    "s = df.index.to_series().groupby(df['video_id']).apply(lambda x: x.sample(n=1))"
   ]
  },
  {
   "cell_type": "code",
   "execution_count": 7,
   "metadata": {},
   "outputs": [
    {
     "name": "stdout",
     "output_type": "stream",
     "text": [
      "                   video_id                                           caption\n",
      "84811      -4wsuPCjDBc_5_15                             A chipmunk is eating.\n",
      "15942   -7KMZQEsJW4_205_208         A man is stroking a sunflower's seed pod.\n",
      "58885   -8rBYNP0UKM_194_201                  Birds are diving into the ocean.\n",
      "41910     -8rBYNP0UKM_50_82                 A whale is swimming in the ocean.\n",
      "96828   -8y1Q0rA3n8_108_115                          A person cutting a botal\n",
      "...                     ...                                               ...\n",
      "101518    zulPFoY64wE_26_33             the person is searching the something\n",
      "63838   zv2RIbUsnSw_159_162       Two children are sliding down some plastic.\n",
      "120769  zv2RIbUsnSw_335_341  A woman on a gurney is being pushed into a room.\n",
      "93081       zxB4dFJhHR8_1_9                        A girl is riding on cycle.\n",
      "2591       zzit5b_-ukg_5_20               A young boy is using a ski machine.\n",
      "\n",
      "[2088 rows x 2 columns]\n"
     ]
    }
   ],
   "source": [
    "canda = df.loc[s]\n",
    "print(canda)"
   ]
  },
  {
   "cell_type": "code",
   "execution_count": 8,
   "metadata": {},
   "outputs": [],
   "source": [
    "newdf = df.drop(s)"
   ]
  },
  {
   "cell_type": "code",
   "execution_count": 9,
   "metadata": {},
   "outputs": [
    {
     "name": "stdout",
     "output_type": "stream",
     "text": [
      "                 video_id                                            caption\n",
      "18      mv89psg6zh4_33_46  A bird in a sink keeps getting under the runni...\n",
      "19      mv89psg6zh4_33_46                       A bird is bathing in a sink.\n",
      "20      mv89psg6zh4_33_46  A bird is splashing around under a running fau...\n",
      "21      mv89psg6zh4_33_46                       A bird is bathing in a sink.\n",
      "22      mv89psg6zh4_33_46  A bird is standing in a sink drinking water th...\n",
      "...                   ...                                                ...\n",
      "122597  m7x8uIdg2XU_67_73               Milk being poured to a bowl of pasta\n",
      "122598  m7x8uIdg2XU_67_73                      the girls are mixing the milk\n",
      "122599  m7x8uIdg2XU_67_73         The lady added a cream sauce to the pasta.\n",
      "122600  m7x8uIdg2XU_67_73                       women are cooking her kichen\n",
      "122601  m7x8uIdg2XU_67_73         The woman is pouring cream over the pasta.\n",
      "\n",
      "[83423 rows x 2 columns]\n"
     ]
    }
   ],
   "source": [
    "print(newdf)"
   ]
  },
  {
   "cell_type": "code",
   "execution_count": 10,
   "metadata": {},
   "outputs": [],
   "source": [
    "canda.to_json (r'C:\\Users\\Vaidehi\\Documents\\Major Project\\CandidateA.json',orient='records')"
   ]
  },
  {
   "cell_type": "code",
   "execution_count": 11,
   "metadata": {},
   "outputs": [],
   "source": [
    "sii = newdf.index.to_series().groupby(newdf['video_id']).apply(lambda x: x.sample(n=1))"
   ]
  },
  {
   "cell_type": "code",
   "execution_count": 12,
   "metadata": {},
   "outputs": [
    {
     "name": "stdout",
     "output_type": "stream",
     "text": [
      "                   video_id                                        caption\n",
      "84816      -4wsuPCjDBc_5_15  The squirrel ate the peanut out of the shell.\n",
      "15927   -7KMZQEsJW4_205_208              A man is picking some sunflowers.\n",
      "58938   -8rBYNP0UKM_194_201                         A BIRD CATCHES A FISH.\n",
      "41908     -8rBYNP0UKM_50_82                        Blue Planet,Ocean World\n",
      "96811   -8y1Q0rA3n8_108_115       A man slices a soda bottle with a sword.\n",
      "...                     ...                                            ...\n",
      "101497    zulPFoY64wE_26_33                       A man is riding a horse.\n",
      "63842   zv2RIbUsnSw_159_162                the girls are playing the water\n",
      "120771  zv2RIbUsnSw_335_341   A woman is riding on an ambulance stretcher.\n",
      "93034       zxB4dFJhHR8_1_9                 A biker rides along the beach.\n",
      "2585       zzit5b_-ukg_5_20              A little boy is riding a bicycle.\n",
      "\n",
      "[2088 rows x 2 columns]\n"
     ]
    }
   ],
   "source": [
    "candb = newdf.loc[sii]\n",
    "print(candb)"
   ]
  },
  {
   "cell_type": "code",
   "execution_count": 13,
   "metadata": {},
   "outputs": [],
   "source": [
    "refdf = newdf.drop(sii)"
   ]
  },
  {
   "cell_type": "code",
   "execution_count": 14,
   "metadata": {},
   "outputs": [
    {
     "name": "stdout",
     "output_type": "stream",
     "text": [
      "                 video_id                                            caption\n",
      "18      mv89psg6zh4_33_46  A bird in a sink keeps getting under the runni...\n",
      "19      mv89psg6zh4_33_46                       A bird is bathing in a sink.\n",
      "20      mv89psg6zh4_33_46  A bird is splashing around under a running fau...\n",
      "21      mv89psg6zh4_33_46                       A bird is bathing in a sink.\n",
      "22      mv89psg6zh4_33_46  A bird is standing in a sink drinking water th...\n",
      "...                   ...                                                ...\n",
      "122597  m7x8uIdg2XU_67_73               Milk being poured to a bowl of pasta\n",
      "122598  m7x8uIdg2XU_67_73                      the girls are mixing the milk\n",
      "122599  m7x8uIdg2XU_67_73         The lady added a cream sauce to the pasta.\n",
      "122600  m7x8uIdg2XU_67_73                       women are cooking her kichen\n",
      "122601  m7x8uIdg2XU_67_73         The woman is pouring cream over the pasta.\n",
      "\n",
      "[81335 rows x 2 columns]\n"
     ]
    }
   ],
   "source": [
    "print(refdf)"
   ]
  },
  {
   "cell_type": "code",
   "execution_count": 15,
   "metadata": {},
   "outputs": [],
   "source": [
    "candb.to_json (r'C:\\Users\\Vaidehi\\Documents\\Major Project\\CandidateB.json',orient='records')"
   ]
  },
  {
   "cell_type": "code",
   "execution_count": 17,
   "metadata": {},
   "outputs": [],
   "source": [
    "refdf.to_json (r'C:\\Users\\Vaidehi\\Documents\\Major Project\\Referencedf.json',orient='records')"
   ]
  },
  {
   "cell_type": "code",
   "execution_count": null,
   "metadata": {},
   "outputs": [],
   "source": []
  }
 ],
 "metadata": {
  "kernelspec": {
   "display_name": "Python 3",
   "language": "python",
   "name": "python3"
  },
  "language_info": {
   "codemirror_mode": {
    "name": "ipython",
    "version": 3
   },
   "file_extension": ".py",
   "mimetype": "text/x-python",
   "name": "python",
   "nbconvert_exporter": "python",
   "pygments_lexer": "ipython3",
   "version": "3.7.6"
  }
 },
 "nbformat": 4,
 "nbformat_minor": 2
}
