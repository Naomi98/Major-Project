{
 "cells": [
  {
   "cell_type": "code",
   "execution_count": 1,
   "metadata": {},
   "outputs": [],
   "source": [
    "## importing necessary packages\n",
    "import pandas"
   ]
  },
  {
   "cell_type": "code",
   "execution_count": 2,
   "metadata": {},
   "outputs": [
    {
     "name": "stdout",
     "output_type": "stream",
     "text": [
      "            VideoID  Start  End Language  \\\n",
      "18      mv89psg6zh4     33   46  English   \n",
      "19      mv89psg6zh4     33   46  English   \n",
      "20      mv89psg6zh4     33   46  English   \n",
      "21      mv89psg6zh4     33   46  English   \n",
      "22      mv89psg6zh4     33   46  English   \n",
      "...             ...    ...  ...      ...   \n",
      "122597  m7x8uIdg2XU     67   73  English   \n",
      "122598  m7x8uIdg2XU     67   73  English   \n",
      "122599  m7x8uIdg2XU     67   73  English   \n",
      "122600  m7x8uIdg2XU     67   73  English   \n",
      "122601  m7x8uIdg2XU     67   73  English   \n",
      "\n",
      "                                              Description  \n",
      "18      A bird in a sink keeps getting under the runni...  \n",
      "19                           A bird is bathing in a sink.  \n",
      "20      A bird is splashing around under a running fau...  \n",
      "21                           A bird is bathing in a sink.  \n",
      "22      A bird is standing in a sink drinking water th...  \n",
      "...                                                   ...  \n",
      "122597               Milk being poured to a bowl of pasta  \n",
      "122598                      the girls are mixing the milk  \n",
      "122599         The lady added a cream sauce to the pasta.  \n",
      "122600                       women are cooking her kichen  \n",
      "122601         The woman is pouring cream over the pasta.  \n",
      "\n",
      "[85511 rows x 5 columns]\n"
     ]
    }
   ],
   "source": [
    "## Making a dataframe for the dataset\n",
    "\n",
    "df = pandas.read_csv('video_corpus.csv')\n",
    "df = df[['VideoID','Start','End','Language','Description']]\n",
    "df = df.loc[df['Language'] == 'English']\n",
    "print(df)"
   ]
  },
  {
   "cell_type": "code",
   "execution_count": 3,
   "metadata": {},
   "outputs": [],
   "source": [
    "#Rename the column 'Description' as 'caption'\n",
    "df = df.rename(columns = {\"Description\": \"caption\"}) "
   ]
  },
  {
   "cell_type": "code",
   "execution_count": 4,
   "metadata": {},
   "outputs": [
    {
     "name": "stdout",
     "output_type": "stream",
     "text": [
      "             video_id                                            caption\n",
      "18  mv89psg6zh4_33_46  A bird in a sink keeps getting under the runni...\n",
      "19  mv89psg6zh4_33_46                       A bird is bathing in a sink.\n",
      "20  mv89psg6zh4_33_46  A bird is splashing around under a running fau...\n",
      "21  mv89psg6zh4_33_46                       A bird is bathing in a sink.\n",
      "22  mv89psg6zh4_33_46  A bird is standing in a sink drinking water th...\n"
     ]
    }
   ],
   "source": [
    "# Merging the columns to create the video_id as mentioned in the video dataset\n",
    "df['video_id']=df['VideoID'].astype(str)+'_'+df['Start'].astype(str)+'_'+df['End'].astype(str)\n",
    "df = df[['video_id','caption']]\n",
    "\n",
    "print(df.head())"
   ]
  },
  {
   "cell_type": "code",
   "execution_count": 5,
   "metadata": {},
   "outputs": [
    {
     "name": "stdout",
     "output_type": "stream",
     "text": [
      "                   video_id                                            caption\n",
      "22        mv89psg6zh4_33_46  A bird is standing in a sink drinking water th...\n",
      "93         ZbzDGXEwtGc_6_15  A clip showing an south african airline plane ...\n",
      "155        g36ho6UrBz0_5_20  A man playing his electric guitar at a home pa...\n",
      "198     04Gt01vatkk_248_265  A woman is chopping an onion slice into fine p...\n",
      "252     buJ5HDCinrM_150_166  A woman applies a concealer to the lower porti...\n",
      "...                     ...                                                ...\n",
      "122326  0lh_UWF9ZP4_103_110  Someone is rolling an egg omelet into a tube i...\n",
      "122414     x68Djm_Q0GA_0_10  The man asks about the quarrel at home and the...\n",
      "122447     X6uJyuD_Zso_3_17  A man chops one half of an onion into small pi...\n",
      "122507    R2DvpPTfl-E_20_25  A man is describing the game he is playing on ...\n",
      "122574    m7x8uIdg2XU_67_73  Someone pours a milky looking substance from a...\n",
      "\n",
      "[2088 rows x 2 columns]\n"
     ]
    }
   ],
   "source": [
    "# Creating index for selecting the longest sentence\n",
    "s = df['caption'].str.len().groupby(df['video_id'], sort=False).idxmax()\n",
    "\n",
    "# Saving the selected rows into the dataframe named candl\n",
    "candl = df.loc[s]\n",
    "print(candl)"
   ]
  },
  {
   "cell_type": "code",
   "execution_count": 6,
   "metadata": {},
   "outputs": [
    {
     "name": "stdout",
     "output_type": "stream",
     "text": [
      "                 video_id                                            caption\n",
      "18      mv89psg6zh4_33_46  A bird in a sink keeps getting under the runni...\n",
      "19      mv89psg6zh4_33_46                       A bird is bathing in a sink.\n",
      "20      mv89psg6zh4_33_46  A bird is splashing around under a running fau...\n",
      "21      mv89psg6zh4_33_46                       A bird is bathing in a sink.\n",
      "23      mv89psg6zh4_33_46  A faucet is running while a bird stands in the...\n",
      "...                   ...                                                ...\n",
      "122597  m7x8uIdg2XU_67_73               Milk being poured to a bowl of pasta\n",
      "122598  m7x8uIdg2XU_67_73                      the girls are mixing the milk\n",
      "122599  m7x8uIdg2XU_67_73         The lady added a cream sauce to the pasta.\n",
      "122600  m7x8uIdg2XU_67_73                       women are cooking her kichen\n",
      "122601  m7x8uIdg2XU_67_73         The woman is pouring cream over the pasta.\n",
      "\n",
      "[83423 rows x 2 columns]\n"
     ]
    }
   ],
   "source": [
    "# Drop the selected rows from the original dataframe 'df' to get a new dataframe 'newdf' \n",
    "newdf = df.drop(s)\n",
    "print(newdf)"
   ]
  },
  {
   "cell_type": "code",
   "execution_count": 7,
   "metadata": {},
   "outputs": [
    {
     "name": "stdout",
     "output_type": "stream",
     "text": [
      "                   video_id                       caption\n",
      "44        mv89psg6zh4_33_46             a bird is playing\n",
      "106        ZbzDGXEwtGc_6_15                Avion airplane\n",
      "126        g36ho6UrBz0_5_20           A man plays guitar.\n",
      "190     04Gt01vatkk_248_265         A woman cuts an oion.\n",
      "301     buJ5HDCinrM_150_166                 AN WOMEN EYES\n",
      "...                     ...                           ...\n",
      "122345  0lh_UWF9ZP4_103_110              Doing egg amlate\n",
      "122421     x68Djm_Q0GA_0_10       A couple going on bike.\n",
      "122490     X6uJyuD_Zso_3_17             How to chop Onion\n",
      "122515    R2DvpPTfl-E_20_25         A man using a laptop.\n",
      "122600    m7x8uIdg2XU_67_73  women are cooking her kichen\n",
      "\n",
      "[2088 rows x 2 columns]\n"
     ]
    }
   ],
   "source": [
    "# Creating index for selecting the shortest sentence\n",
    "si = newdf['caption'].str.len().groupby(newdf['video_id'], sort=False).idxmin()\n",
    "\n",
    "# Saving the selected rows into the dataframe named cands\n",
    "cands = newdf.loc[si]\n",
    "print(cands)"
   ]
  },
  {
   "cell_type": "code",
   "execution_count": 8,
   "metadata": {},
   "outputs": [
    {
     "name": "stdout",
     "output_type": "stream",
     "text": [
      "                 video_id                                            caption\n",
      "18      mv89psg6zh4_33_46  A bird in a sink keeps getting under the runni...\n",
      "19      mv89psg6zh4_33_46                       A bird is bathing in a sink.\n",
      "20      mv89psg6zh4_33_46  A bird is splashing around under a running fau...\n",
      "21      mv89psg6zh4_33_46                       A bird is bathing in a sink.\n",
      "23      mv89psg6zh4_33_46  A faucet is running while a bird stands in the...\n",
      "...                   ...                                                ...\n",
      "122596  m7x8uIdg2XU_67_73                the person is cooking the something\n",
      "122597  m7x8uIdg2XU_67_73               Milk being poured to a bowl of pasta\n",
      "122598  m7x8uIdg2XU_67_73                      the girls are mixing the milk\n",
      "122599  m7x8uIdg2XU_67_73         The lady added a cream sauce to the pasta.\n",
      "122601  m7x8uIdg2XU_67_73         The woman is pouring cream over the pasta.\n",
      "\n",
      "[81335 rows x 2 columns]\n"
     ]
    }
   ],
   "source": [
    "# Drop the selected rows from the last dataframe 'newdf' to get a new dataframe 'testdf' \n",
    "testdf = newdf.drop(si)\n",
    "print(testdf)"
   ]
  },
  {
   "cell_type": "code",
   "execution_count": 9,
   "metadata": {},
   "outputs": [],
   "source": [
    "candl.to_json (r'C:\\Users\\Vaidehi\\Documents\\Major Project\\video_corpus.csv\\LongestDf.json',orient='records')\n",
    "candl.to_json (r'C:\\Users\\Vaidehi\\Documents\\Major Project\\video_corpus.csv\\ShortestDf.json',orient='records')\n",
    "candl.to_json (r'C:\\Users\\Vaidehi\\Documents\\Major Project\\video_corpus.csv\\TestDf.json',orient='records')"
   ]
  }
 ],
 "metadata": {
  "kernelspec": {
   "display_name": "Python 3",
   "language": "python",
   "name": "python3"
  },
  "language_info": {
   "codemirror_mode": {
    "name": "ipython",
    "version": 3
   },
   "file_extension": ".py",
   "mimetype": "text/x-python",
   "name": "python",
   "nbconvert_exporter": "python",
   "pygments_lexer": "ipython3",
   "version": "3.7.6"
  }
 },
 "nbformat": 4,
 "nbformat_minor": 4
}
