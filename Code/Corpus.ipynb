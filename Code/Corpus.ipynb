{
 "cells": [
  {
   "cell_type": "code",
   "execution_count": 1,
   "metadata": {},
   "outputs": [],
   "source": [
    "## importing necessary packages\n",
    "import pandas\n",
    "import json"
   ]
  },
  {
   "cell_type": "code",
   "execution_count": 8,
   "metadata": {
    "scrolled": true
   },
   "outputs": [
    {
     "name": "stdout",
     "output_type": "stream",
     "text": [
      "            VideoID  Start  End Language  \\\n",
      "18      mv89psg6zh4     33   46  English   \n",
      "19      mv89psg6zh4     33   46  English   \n",
      "20      mv89psg6zh4     33   46  English   \n",
      "21      mv89psg6zh4     33   46  English   \n",
      "22      mv89psg6zh4     33   46  English   \n",
      "...             ...    ...  ...      ...   \n",
      "122597  m7x8uIdg2XU     67   73  English   \n",
      "122598  m7x8uIdg2XU     67   73  English   \n",
      "122599  m7x8uIdg2XU     67   73  English   \n",
      "122600  m7x8uIdg2XU     67   73  English   \n",
      "122601  m7x8uIdg2XU     67   73  English   \n",
      "\n",
      "                                              Description  \n",
      "18      A bird in a sink keeps getting under the runni...  \n",
      "19                           A bird is bathing in a sink.  \n",
      "20      A bird is splashing around under a running fau...  \n",
      "21                           A bird is bathing in a sink.  \n",
      "22      A bird is standing in a sink drinking water th...  \n",
      "...                                                   ...  \n",
      "122597               Milk being poured to a bowl of pasta  \n",
      "122598                      the girls are mixing the milk  \n",
      "122599         The lady added a cream sauce to the pasta.  \n",
      "122600                       women are cooking her kichen  \n",
      "122601         The woman is pouring cream over the pasta.  \n",
      "\n",
      "[85511 rows x 5 columns]\n"
     ]
    }
   ],
   "source": [
    "## Making a dataframe for the dataset\n",
    "\n",
    "df = pandas.read_csv('video_corpus.csv')\n",
    "df = df[['VideoID','Start','End','Language','Description']]\n",
    "df = df.loc[df['Language'] == 'English']\n",
    "print(df)"
   ]
  },
  {
   "cell_type": "code",
   "execution_count": 10,
   "metadata": {
    "scrolled": true
   },
   "outputs": [
    {
     "name": "stdout",
     "output_type": "stream",
     "text": [
      "        VideoID  Start  End Language  \\\n",
      "18  mv89psg6zh4     33   46  English   \n",
      "19  mv89psg6zh4     33   46  English   \n",
      "20  mv89psg6zh4     33   46  English   \n",
      "21  mv89psg6zh4     33   46  English   \n",
      "22  mv89psg6zh4     33   46  English   \n",
      "\n",
      "                                              caption  \n",
      "18  A bird in a sink keeps getting under the runni...  \n",
      "19                       A bird is bathing in a sink.  \n",
      "20  A bird is splashing around under a running fau...  \n",
      "21                       A bird is bathing in a sink.  \n",
      "22  A bird is standing in a sink drinking water th...  \n"
     ]
    }
   ],
   "source": [
    "df = df.rename(columns = {\"Description\": \"caption\"}) \n",
    "print(df.head())"
   ]
  },
  {
   "cell_type": "code",
   "execution_count": 11,
   "metadata": {},
   "outputs": [
    {
     "name": "stdout",
     "output_type": "stream",
     "text": [
      "                 video_id                                            caption\n",
      "18      mv89psg6zh4_33_46  A bird in a sink keeps getting under the runni...\n",
      "19      mv89psg6zh4_33_46                       A bird is bathing in a sink.\n",
      "20      mv89psg6zh4_33_46  A bird is splashing around under a running fau...\n",
      "21      mv89psg6zh4_33_46                       A bird is bathing in a sink.\n",
      "22      mv89psg6zh4_33_46  A bird is standing in a sink drinking water th...\n",
      "...                   ...                                                ...\n",
      "122597  m7x8uIdg2XU_67_73               Milk being poured to a bowl of pasta\n",
      "122598  m7x8uIdg2XU_67_73                      the girls are mixing the milk\n",
      "122599  m7x8uIdg2XU_67_73         The lady added a cream sauce to the pasta.\n",
      "122600  m7x8uIdg2XU_67_73                       women are cooking her kichen\n",
      "122601  m7x8uIdg2XU_67_73         The woman is pouring cream over the pasta.\n",
      "\n",
      "[85511 rows x 2 columns]\n"
     ]
    }
   ],
   "source": [
    "df['video_id']=df['VideoID'].astype(str)+'_'+df['Start'].astype(str)+'_'+df['End'].astype(str)\n",
    "df = df[['video_id','caption']]\n",
    "print(df)"
   ]
  },
  {
   "cell_type": "code",
   "execution_count": 12,
   "metadata": {},
   "outputs": [],
   "source": [
    "df = df.dropna()"
   ]
  },
  {
   "cell_type": "code",
   "execution_count": 13,
   "metadata": {},
   "outputs": [
    {
     "name": "stdout",
     "output_type": "stream",
     "text": [
      "                 video_id                                            caption\n",
      "18      mv89psg6zh4_33_46  A bird in a sink keeps getting under the runni...\n",
      "19      mv89psg6zh4_33_46                       A bird is bathing in a sink.\n",
      "20      mv89psg6zh4_33_46  A bird is splashing around under a running fau...\n",
      "21      mv89psg6zh4_33_46                       A bird is bathing in a sink.\n",
      "22      mv89psg6zh4_33_46  A bird is standing in a sink drinking water th...\n",
      "...                   ...                                                ...\n",
      "122597  m7x8uIdg2XU_67_73               Milk being poured to a bowl of pasta\n",
      "122598  m7x8uIdg2XU_67_73                      the girls are mixing the milk\n",
      "122599  m7x8uIdg2XU_67_73         The lady added a cream sauce to the pasta.\n",
      "122600  m7x8uIdg2XU_67_73                       women are cooking her kichen\n",
      "122601  m7x8uIdg2XU_67_73         The woman is pouring cream over the pasta.\n",
      "\n",
      "[85510 rows x 2 columns]\n"
     ]
    }
   ],
   "source": [
    "print(df)"
   ]
  },
  {
   "cell_type": "code",
   "execution_count": 14,
   "metadata": {},
   "outputs": [],
   "source": [
    "df.to_json (r'C:\\Users\\Vaidehi\\Documents\\Major Project\\video_corpus.csv\\Vocabdf.json',orient='records')"
   ]
  }
 ],
 "metadata": {
  "kernelspec": {
   "display_name": "Python 3",
   "language": "python",
   "name": "python3"
  },
  "language_info": {
   "codemirror_mode": {
    "name": "ipython",
    "version": 3
   },
   "file_extension": ".py",
   "mimetype": "text/x-python",
   "name": "python",
   "nbconvert_exporter": "python",
   "pygments_lexer": "ipython3",
   "version": "3.7.6"
  }
 },
 "nbformat": 4,
 "nbformat_minor": 4
}
